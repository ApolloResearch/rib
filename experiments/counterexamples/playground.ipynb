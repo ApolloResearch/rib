{
 "cells": [
  {
   "cell_type": "code",
   "execution_count": 1,
   "metadata": {},
   "outputs": [
    {
     "ename": "ModuleNotFoundError",
     "evalue": "No module named 'modular_dnn.py'; 'modular_dnn' is not a package",
     "output_type": "error",
     "traceback": [
      "\u001b[0;31m---------------------------------------------------------------------------\u001b[0m",
      "\u001b[0;31mModuleNotFoundError\u001b[0m                       Traceback (most recent call last)",
      "\u001b[1;32m/mnt/ssd-apollo/jake/rib/experiments/counterexamples/playground.ipynb Cell 1\u001b[0m line \u001b[0;36m2\n\u001b[1;32m      <a href='vscode-notebook-cell://ssh-remote%2Bjake-a5000/mnt/ssd-apollo/jake/rib/experiments/counterexamples/playground.ipynb#W1sdnNjb2RlLXJlbW90ZQ%3D%3D?line=0'>1</a>\u001b[0m \u001b[39mimport\u001b[39;00m \u001b[39mtorch\u001b[39;00m\n\u001b[0;32m----> <a href='vscode-notebook-cell://ssh-remote%2Bjake-a5000/mnt/ssd-apollo/jake/rib/experiments/counterexamples/playground.ipynb#W1sdnNjb2RlLXJlbW90ZQ%3D%3D?line=1'>2</a>\u001b[0m \u001b[39mfrom\u001b[39;00m \u001b[39mmodular_dnn\u001b[39;00m\u001b[39m.\u001b[39;00m\u001b[39mpy\u001b[39;00m \u001b[39mimport\u001b[39;00m BlockDiagonalDNN\n\u001b[1;32m      <a href='vscode-notebook-cell://ssh-remote%2Bjake-a5000/mnt/ssd-apollo/jake/rib/experiments/counterexamples/playground.ipynb#W1sdnNjb2RlLXJlbW90ZQ%3D%3D?line=2'>3</a>\u001b[0m torch\u001b[39m.\u001b[39mload(\u001b[39m'\u001b[39m\u001b[39m/mnt/ssd-apollo/jake/rib/experiments/counterexamples/results/small_modular_dnn_seed1_n10_k5_layers3_random_bias100/rib_graph.pt\u001b[39m\u001b[39m'\u001b[39m)\n",
      "\u001b[0;31mModuleNotFoundError\u001b[0m: No module named 'modular_dnn.py'; 'modular_dnn' is not a package"
     ]
    }
   ],
   "source": [
    "import torch\n",
    "from modular_dnn.py import BlockDiagonalDNN\n",
    "torch.load('/mnt/ssd-apollo/jake/rib/experiments/counterexamples/results/small_modular_dnn_seed1_n10_k5_layers3_random_bias100/rib_graph.pt')"
   ]
  },
  {
   "cell_type": "code",
   "execution_count": 11,
   "metadata": {},
   "outputs": [
    {
     "data": {
      "text/plain": [
       "array([[ 0.7227788 ,  0.38645982,  0.22587256],\n",
       "       [ 0.38645982,  0.46125624, -0.31487733],\n",
       "       [ 0.22587256, -0.31487733,  0.81596496]])"
      ]
     },
     "execution_count": 11,
     "metadata": {},
     "output_type": "execute_result"
    }
   ],
   "source": [
    "\n",
    "from scipy.stats import ortho_group\n",
    "\n",
    "a = np.identity(3)\n",
    "a[2,2] = 0\n",
    "a\n",
    "\n",
    "# Generate a random 3D orthogonal matrix\n",
    "random_orthogonal_matrix = ortho_group.rvs(dim=3)\n",
    "\n",
    "random_orthogonal_matrix@ a @ random_orthogonal_matrix.T\n"
   ]
  }
 ],
 "metadata": {
  "kernelspec": {
   "display_name": "rib-env",
   "language": "python",
   "name": "python3"
  },
  "language_info": {
   "codemirror_mode": {
    "name": "ipython",
    "version": 3
   },
   "file_extension": ".py",
   "mimetype": "text/x-python",
   "name": "python",
   "nbconvert_exporter": "python",
   "pygments_lexer": "ipython3",
   "version": "3.10.13"
  }
 },
 "nbformat": 4,
 "nbformat_minor": 2
}
