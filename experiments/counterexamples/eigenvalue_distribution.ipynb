{
 "cells": [
  {
   "cell_type": "code",
   "execution_count": null,
   "metadata": {},
   "outputs": [],
   "source": [
    "import numpy as np\n",
    "from matplotlib import pyplot as plt"
   ]
  },
  {
   "cell_type": "code",
   "execution_count": null,
   "metadata": {},
   "outputs": [],
   "source": [
    "size = 300\n",
    "a = np.random.randn(size,size)\n",
    "eigs = np.abs(np.linalg.eigvals(a))\n",
    "eigslist = [eigs]\n",
    "eigratios = [np.max(eigs)/np.min(eigs)]\n",
    "repeats = np.arange(40)\n",
    "for i in repeats[1:]:\n",
    "    a = a * np.random.randn(size,size)\n",
    "    eigs = np.abs(np.linalg.eigvals(a))\n",
    "    eigslist += [eigs]\n",
    "    eigratios.append(np.max(eigs)/np.min(eigs))\n",
    "eigs = np.array(eigs)\n",
    "eigratios = np.array(eigratios)\n",
    "plt.plot(repeats, np.log(eigslist))\n",
    "plt.show()\n",
    "plt.plot(repeats, np.log(eigratios))\n"
   ]
  },
  {
   "cell_type": "code",
   "execution_count": null,
   "metadata": {},
   "outputs": [],
   "source": [
    "import plotly.graph_objs as go\n",
    "from plotly.subplots import make_subplots\n",
    "\n",
    "# Assuming 'eigslist' is already populated as per your script\n",
    "\n",
    "# Create a figure with a slider\n",
    "fig = make_subplots()\n",
    "sliders = [{\n",
    "    'active': 0,\n",
    "    'pad': {\"t\": 50},\n",
    "    'steps': []\n",
    "}]\n",
    "\n",
    "# Add a histogram to the figure for each set of eigenvalues\n",
    "for i, eigs in enumerate(eigslist):\n",
    "    fig.add_trace(\n",
    "        go.Histogram(\n",
    "            x=eigs,\n",
    "            name=f'Repeat {i}',\n",
    "            visible= (i == 0),  # Only the first histogram is visible initially\n",
    "            nbinsx=50\n",
    "        )\n",
    "    )\n",
    "    # Add a step to the slider\n",
    "    sliders[0]['steps'].append({\n",
    "        'method': 'update',\n",
    "        'args': [{'visible': [j == i for j in range(len(eigslist))]},\n",
    "                 {'title': f'Repeat: {i}'}]\n",
    "    })\n",
    "\n",
    "# Update layout with slider\n",
    "fig.update_layout(\n",
    "    sliders=sliders,\n",
    "    title=\"Distribution of Eigenvalues Over Repeats\",\n",
    "    height=600,\n",
    "    width=800,\n",
    ")\n",
    "\n",
    "\n",
    "# Show the figure\n",
    "fig.show()\n",
    " "
   ]
  },
  {
   "cell_type": "code",
   "execution_count": null,
   "metadata": {},
   "outputs": [],
   "source": []
  }
 ],
 "metadata": {
  "kernelspec": {
   "display_name": "rib-env",
   "language": "python",
   "name": "python3"
  },
  "language_info": {
   "codemirror_mode": {
    "name": "ipython",
    "version": 3
   },
   "file_extension": ".py",
   "mimetype": "text/x-python",
   "name": "python",
   "nbconvert_exporter": "python",
   "pygments_lexer": "ipython3",
   "version": "3.10.13"
  }
 },
 "nbformat": 4,
 "nbformat_minor": 2
}
